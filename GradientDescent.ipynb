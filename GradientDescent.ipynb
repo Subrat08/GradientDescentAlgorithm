{
 "cells": [
  {
   "cell_type": "markdown",
   "metadata": {
    "colab_type": "text",
    "id": "PazWKiuDJYwg"
   },
   "source": [
    "# Gradient Descent"
   ]
  },
  {
   "cell_type": "markdown",
   "metadata": {
    "colab_type": "text",
    "id": "ebYPbKPHJcCE"
   },
   "source": [
    "# 1. Importing all necessary packages"
   ]
  },
  {
   "cell_type": "code",
   "execution_count": null,
   "metadata": {
    "colab": {},
    "colab_type": "code",
    "id": "Xt-_cf1zcaWh"
   },
   "outputs": [],
   "source": [
    "import pandas as pd                                     # importing pandas to handle dataset\n",
    "import numpy as np                                      # imporitng numpy to do mathematical computations\n",
    "import matplotlib.pyplot as plt                         # importing pyplot to plot graphs\n",
    "\n",
    "from sklearn import preprocessing                       # importing preprocessing to scale our data\n",
    "from sklearn.datasets import load_boston                # importing boston dataset\n",
    "from sklearn.linear_model import LinearRegression       # imporitng LinearRegression to compare with our own GD\n",
    "from sklearn.metrics import mean_squared_error          # importig mean squared error to calculate the error\n",
    "from sklearn.model_selection import train_test_split    # imporitng train test split to split dataset into train and test\n",
    "\n",
    "import warnings\n",
    "warnings.filterwarnings(\"ignore\")                       # supressing warnings"
   ]
  },
  {
   "cell_type": "markdown",
   "metadata": {
    "colab_type": "text",
    "id": "s6oSlrjqKt17"
   },
   "source": [
    "# 2. Loading Boston dataset as X and Y "
   ]
  },
  {
   "cell_type": "code",
   "execution_count": null,
   "metadata": {
    "colab": {
     "base_uri": "https://localhost:8080/",
     "height": 204
    },
    "colab_type": "code",
    "id": "oF-vevWk-FPz",
    "outputId": "dc42d6c8-d769-458a-c881-ef9b1cf80b28"
   },
   "outputs": [
    {
     "data": {
      "text/html": [
       "<div>\n",
       "<style scoped>\n",
       "    .dataframe tbody tr th:only-of-type {\n",
       "        vertical-align: middle;\n",
       "    }\n",
       "\n",
       "    .dataframe tbody tr th {\n",
       "        vertical-align: top;\n",
       "    }\n",
       "\n",
       "    .dataframe thead th {\n",
       "        text-align: right;\n",
       "    }\n",
       "</style>\n",
       "<table border=\"1\" class=\"dataframe\">\n",
       "  <thead>\n",
       "    <tr style=\"text-align: right;\">\n",
       "      <th></th>\n",
       "      <th>CRIM</th>\n",
       "      <th>ZN</th>\n",
       "      <th>INDUS</th>\n",
       "      <th>CHAS</th>\n",
       "      <th>NOX</th>\n",
       "      <th>RM</th>\n",
       "      <th>AGE</th>\n",
       "      <th>DIS</th>\n",
       "      <th>RAD</th>\n",
       "      <th>TAX</th>\n",
       "      <th>PTRATIO</th>\n",
       "      <th>B</th>\n",
       "      <th>LSTAT</th>\n",
       "    </tr>\n",
       "  </thead>\n",
       "  <tbody>\n",
       "    <tr>\n",
       "      <th>0</th>\n",
       "      <td>0.00632</td>\n",
       "      <td>18.0</td>\n",
       "      <td>2.31</td>\n",
       "      <td>0.0</td>\n",
       "      <td>0.538</td>\n",
       "      <td>6.575</td>\n",
       "      <td>65.2</td>\n",
       "      <td>4.0900</td>\n",
       "      <td>1.0</td>\n",
       "      <td>296.0</td>\n",
       "      <td>15.3</td>\n",
       "      <td>396.90</td>\n",
       "      <td>4.98</td>\n",
       "    </tr>\n",
       "    <tr>\n",
       "      <th>1</th>\n",
       "      <td>0.02731</td>\n",
       "      <td>0.0</td>\n",
       "      <td>7.07</td>\n",
       "      <td>0.0</td>\n",
       "      <td>0.469</td>\n",
       "      <td>6.421</td>\n",
       "      <td>78.9</td>\n",
       "      <td>4.9671</td>\n",
       "      <td>2.0</td>\n",
       "      <td>242.0</td>\n",
       "      <td>17.8</td>\n",
       "      <td>396.90</td>\n",
       "      <td>9.14</td>\n",
       "    </tr>\n",
       "    <tr>\n",
       "      <th>2</th>\n",
       "      <td>0.02729</td>\n",
       "      <td>0.0</td>\n",
       "      <td>7.07</td>\n",
       "      <td>0.0</td>\n",
       "      <td>0.469</td>\n",
       "      <td>7.185</td>\n",
       "      <td>61.1</td>\n",
       "      <td>4.9671</td>\n",
       "      <td>2.0</td>\n",
       "      <td>242.0</td>\n",
       "      <td>17.8</td>\n",
       "      <td>392.83</td>\n",
       "      <td>4.03</td>\n",
       "    </tr>\n",
       "    <tr>\n",
       "      <th>3</th>\n",
       "      <td>0.03237</td>\n",
       "      <td>0.0</td>\n",
       "      <td>2.18</td>\n",
       "      <td>0.0</td>\n",
       "      <td>0.458</td>\n",
       "      <td>6.998</td>\n",
       "      <td>45.8</td>\n",
       "      <td>6.0622</td>\n",
       "      <td>3.0</td>\n",
       "      <td>222.0</td>\n",
       "      <td>18.7</td>\n",
       "      <td>394.63</td>\n",
       "      <td>2.94</td>\n",
       "    </tr>\n",
       "    <tr>\n",
       "      <th>4</th>\n",
       "      <td>0.06905</td>\n",
       "      <td>0.0</td>\n",
       "      <td>2.18</td>\n",
       "      <td>0.0</td>\n",
       "      <td>0.458</td>\n",
       "      <td>7.147</td>\n",
       "      <td>54.2</td>\n",
       "      <td>6.0622</td>\n",
       "      <td>3.0</td>\n",
       "      <td>222.0</td>\n",
       "      <td>18.7</td>\n",
       "      <td>396.90</td>\n",
       "      <td>5.33</td>\n",
       "    </tr>\n",
       "  </tbody>\n",
       "</table>\n",
       "</div>"
      ],
      "text/plain": [
       "      CRIM    ZN  INDUS  CHAS    NOX  ...  RAD    TAX  PTRATIO       B  LSTAT\n",
       "0  0.00632  18.0   2.31   0.0  0.538  ...  1.0  296.0     15.3  396.90   4.98\n",
       "1  0.02731   0.0   7.07   0.0  0.469  ...  2.0  242.0     17.8  396.90   9.14\n",
       "2  0.02729   0.0   7.07   0.0  0.469  ...  2.0  242.0     17.8  392.83   4.03\n",
       "3  0.03237   0.0   2.18   0.0  0.458  ...  3.0  222.0     18.7  394.63   2.94\n",
       "4  0.06905   0.0   2.18   0.0  0.458  ...  3.0  222.0     18.7  396.90   5.33\n",
       "\n",
       "[5 rows x 13 columns]"
      ]
     },
     "execution_count": 2,
     "metadata": {
      "tags": []
     },
     "output_type": "execute_result"
    }
   ],
   "source": [
    "# Visualizing boston dataset as dataframe\n",
    "boston_df = pd.DataFrame(data = load_boston().data)\n",
    "boston_df.columns = load_boston().feature_names\n",
    "boston_df.head()"
   ]
  },
  {
   "cell_type": "markdown",
   "metadata": {
    "colab_type": "text",
    "id": "AXyfBKb0-0Yb"
   },
   "source": [
    "## Dataset description"
   ]
  },
  {
   "cell_type": "code",
   "execution_count": null,
   "metadata": {
    "colab": {
     "base_uri": "https://localhost:8080/",
     "height": 904
    },
    "colab_type": "code",
    "id": "9q0WqSO0-rsi",
    "outputId": "054e546a-5272-4717-e935-a3580b9b9028"
   },
   "outputs": [
    {
     "name": "stdout",
     "output_type": "stream",
     "text": [
      ".. _boston_dataset:\n",
      "\n",
      "Boston house prices dataset\n",
      "---------------------------\n",
      "\n",
      "**Data Set Characteristics:**  \n",
      "\n",
      "    :Number of Instances: 506 \n",
      "\n",
      "    :Number of Attributes: 13 numeric/categorical predictive. Median Value (attribute 14) is usually the target.\n",
      "\n",
      "    :Attribute Information (in order):\n",
      "        - CRIM     per capita crime rate by town\n",
      "        - ZN       proportion of residential land zoned for lots over 25,000 sq.ft.\n",
      "        - INDUS    proportion of non-retail business acres per town\n",
      "        - CHAS     Charles River dummy variable (= 1 if tract bounds river; 0 otherwise)\n",
      "        - NOX      nitric oxides concentration (parts per 10 million)\n",
      "        - RM       average number of rooms per dwelling\n",
      "        - AGE      proportion of owner-occupied units built prior to 1940\n",
      "        - DIS      weighted distances to five Boston employment centres\n",
      "        - RAD      index of accessibility to radial highways\n",
      "        - TAX      full-value property-tax rate per $10,000\n",
      "        - PTRATIO  pupil-teacher ratio by town\n",
      "        - B        1000(Bk - 0.63)^2 where Bk is the proportion of blacks by town\n",
      "        - LSTAT    % lower status of the population\n",
      "        - MEDV     Median value of owner-occupied homes in $1000's\n",
      "\n",
      "    :Missing Attribute Values: None\n",
      "\n",
      "    :Creator: Harrison, D. and Rubinfeld, D.L.\n",
      "\n",
      "This is a copy of UCI ML housing dataset.\n",
      "https://archive.ics.uci.edu/ml/machine-learning-databases/housing/\n",
      "\n",
      "\n",
      "This dataset was taken from the StatLib library which is maintained at Carnegie Mellon University.\n",
      "\n",
      "The Boston house-price data of Harrison, D. and Rubinfeld, D.L. 'Hedonic\n",
      "prices and the demand for clean air', J. Environ. Economics & Management,\n",
      "vol.5, 81-102, 1978.   Used in Belsley, Kuh & Welsch, 'Regression diagnostics\n",
      "...', Wiley, 1980.   N.B. Various transformations are used in the table on\n",
      "pages 244-261 of the latter.\n",
      "\n",
      "The Boston house-price data has been used in many machine learning papers that address regression\n",
      "problems.   \n",
      "     \n",
      ".. topic:: References\n",
      "\n",
      "   - Belsley, Kuh & Welsch, 'Regression diagnostics: Identifying Influential Data and Sources of Collinearity', Wiley, 1980. 244-261.\n",
      "   - Quinlan,R. (1993). Combining Instance-Based and Model-Based Learning. In Proceedings on the Tenth International Conference of Machine Learning, 236-243, University of Massachusetts, Amherst. Morgan Kaufmann.\n",
      "\n"
     ]
    }
   ],
   "source": [
    "print(load_boston().DESCR)"
   ]
  },
  {
   "cell_type": "code",
   "execution_count": null,
   "metadata": {
    "colab": {
     "base_uri": "https://localhost:8080/",
     "height": 272
    },
    "colab_type": "code",
    "id": "LG0bMF2TcbVc",
    "outputId": "45852563-cf8c-47e5-f437-2625c1f568f3"
   },
   "outputs": [
    {
     "data": {
      "text/plain": [
       "array([[6.3200e-03, 1.8000e+01, 2.3100e+00, 0.0000e+00, 5.3800e-01,\n",
       "        6.5750e+00, 6.5200e+01, 4.0900e+00, 1.0000e+00, 2.9600e+02,\n",
       "        1.5300e+01, 3.9690e+02, 4.9800e+00],\n",
       "       [2.7310e-02, 0.0000e+00, 7.0700e+00, 0.0000e+00, 4.6900e-01,\n",
       "        6.4210e+00, 7.8900e+01, 4.9671e+00, 2.0000e+00, 2.4200e+02,\n",
       "        1.7800e+01, 3.9690e+02, 9.1400e+00],\n",
       "       [2.7290e-02, 0.0000e+00, 7.0700e+00, 0.0000e+00, 4.6900e-01,\n",
       "        7.1850e+00, 6.1100e+01, 4.9671e+00, 2.0000e+00, 2.4200e+02,\n",
       "        1.7800e+01, 3.9283e+02, 4.0300e+00],\n",
       "       [3.2370e-02, 0.0000e+00, 2.1800e+00, 0.0000e+00, 4.5800e-01,\n",
       "        6.9980e+00, 4.5800e+01, 6.0622e+00, 3.0000e+00, 2.2200e+02,\n",
       "        1.8700e+01, 3.9463e+02, 2.9400e+00],\n",
       "       [6.9050e-02, 0.0000e+00, 2.1800e+00, 0.0000e+00, 4.5800e-01,\n",
       "        7.1470e+00, 5.4200e+01, 6.0622e+00, 3.0000e+00, 2.2200e+02,\n",
       "        1.8700e+01, 3.9690e+02, 5.3300e+00]])"
      ]
     },
     "execution_count": 4,
     "metadata": {
      "tags": []
     },
     "output_type": "execute_result"
    }
   ],
   "source": [
    "X = load_boston().data      # loading all the independent variables\n",
    "Y = load_boston().target    # loading tagret variable\n",
    "X[:5,]                      # First 5 rows of boston dataset"
   ]
  },
  {
   "cell_type": "markdown",
   "metadata": {
    "colab_type": "text",
    "id": "Hci_127cLRa8"
   },
   "source": [
    "# 3. Train and Test Split (70-30)"
   ]
  },
  {
   "cell_type": "code",
   "execution_count": null,
   "metadata": {
    "colab": {},
    "colab_type": "code",
    "id": "buJ7qIcUcfeq"
   },
   "outputs": [],
   "source": [
    "X_train, X_test, y_train, y_test = train_test_split(X,Y,test_size=0.3, random_state=100)"
   ]
  },
  {
   "cell_type": "markdown",
   "metadata": {
    "colab_type": "text",
    "id": "aOEjrqYrLWpf"
   },
   "source": [
    "#4. Preprocessing data"
   ]
  },
  {
   "cell_type": "code",
   "execution_count": null,
   "metadata": {
    "colab": {},
    "colab_type": "code",
    "id": "0nIwzljvchLx"
   },
   "outputs": [],
   "source": [
    "# Standardizing Data\n",
    "scaler = preprocessing.StandardScaler()\n",
    "X_train = scaler.fit_transform(X_train)\n",
    "X_test = scaler.transform(X_test)"
   ]
  },
  {
   "cell_type": "markdown",
   "metadata": {
    "colab_type": "text",
    "id": "jyWkIcgkLcr5"
   },
   "source": [
    "# 5. Buidling Linear Regression model from sklearn LinearRegression"
   ]
  },
  {
   "cell_type": "code",
   "execution_count": null,
   "metadata": {
    "colab": {
     "base_uri": "https://localhost:8080/",
     "height": 380
    },
    "colab_type": "code",
    "id": "gjeKFuD9dE-3",
    "outputId": "b0c05b0b-4a3c-442c-ac5d-3a0472724a6c"
   },
   "outputs": [
    {
     "data": {
      "image/png": "[encoded data removed]",
      "text/plain": [
       "<Figure size 432x288 with 1 Axes>"
      ]
     },
     "metadata": {
      "needs_background": "light",
      "tags": []
     },
     "output_type": "display_data"
    },
    {
     "name": "stdout",
     "output_type": "stream",
     "text": [
      "Mean Squared Error : 29.79884430147882\n",
      "22.602259887005644\n",
      "[-0.60033443  0.91337983 -0.04123957  0.67387317 -1.52448856  2.76096722\n",
      " -0.34091223 -2.81997448  2.45481024 -2.36183297 -1.94244355  0.95375187\n",
      " -3.22519325]\n"
     ]
    }
   ],
   "source": [
    "# Linear Regression\n",
    "clf = LinearRegression()\n",
    "clf.fit(X_train, y_train)\n",
    "plt.scatter(y_test,clf.predict(X_test))\n",
    "plt.grid()\n",
    "plt.xlabel('Actual y')\n",
    "plt.ylabel('Predicted y')\n",
    "plt.title('Scatter plot between actual y vs predicted y')\n",
    "plt.show()\n",
    "sgd_constant = mean_squared_error(y_test, clf.predict(X_test))\n",
    "print('Mean Squared Error :',sgd_constant)\n",
    "print(clf.intercept_)\n",
    "print(clf.coef_)"
   ]
  },
  {
   "cell_type": "markdown",
   "metadata": {
    "colab_type": "text",
    "id": "54cXugnBP01u"
   },
   "source": [
    "# 6. Pre-requisite to understand GD before moving to code"
   ]
  },
  {
   "cell_type": "markdown",
   "metadata": {
    "colab_type": "text",
    "id": "SQh9DfD8VI30"
   },
   "source": [
    "##6.1 Steps to find optimal coeff (Theory)\n",
    "1. Define a cost function\n",
    "\\begin{equation}\n",
    "J(\\beta_0,\\beta_1, \\beta_2) = \\frac{1}{2m}\\sum_{i=1}^{m} \\left(h_{\\beta}(x^{(i)})-y^{(i)}\\right)^2\n",
    "\\end{equation}\n",
    "Here, **m** is the number of training examples. To make the math a little bit easier, we put a factor of **1/2m**. Our aim to minimise the cost function\n",
    "\\begin{equation} min_{\\beta_0,\\beta_1, \\beta_2} \\frac{1}{2m}\\sum_{i=1}^{m} \\left(h_{\\beta}(x^{(i)})-y^{(i)}\\right)^2 \\end{equation}\n",
    "\n",
    "2. Gradient descent is an algorithm that is used to minimize a function. Gradient descent is used not only in linear regression; it is a more general algorithm. All it needs a function which can be differentiable. Our cost function can be differentiable and the derivative of cost function can be given as:\n",
    "$\n",
    "\\begin{equation}\n",
    "\\frac{\\partial}{\\partial\\beta_0}\\left(\\frac{1}{2m}\\sum_{i=1}^{m} \\left(\\beta_0x_0^{(i)}+\\beta_1x_1^{(i)} + \\beta_2x_2^{(i)}-y^{(i)}\\right)^2 \\right) = \\frac{1}{m}\\sum_{i=1}^{m} \\left(\\beta_0x_0^{(i)}+\\beta_1x_1^{(i)} + \\beta_2x_2^{(i)} -y^{(i)}\\right) .x_0^{(i)} = \\frac{1}{m}\\sum_{i=1}^{m} \\left(h_{\\beta}(x^{(i)})-y^{(i)}\\right).x_0^{(i)}\\end{equation}\n",
    "$\n",
    "here $x_0$ is 1 since it's a constant\n",
    "\n",
    "\\begin{equation}\n",
    "\\frac{\\partial}{\\partial\\beta_1}\\left(\\frac{1}{2m}\\sum_{i=1}^{m} \\left(\\beta_0x_0^{(i)}+\\beta_1x_1^{(i)} + \\beta_2x_2^{(i)}-y^{(i)}\\right)^2 \\right) = \\frac{1}{m}\\sum_{i=1}^{m} \\left(\\beta_0x_0^{(i)}+\\beta_1x_1^{(i)} + \\beta_2x_2^{(i)} -y^{(i)}\\right).x_1^{(i)} = \\frac{1}{m}\\sum_{i=1}^{m} \\left(h_{\\beta}(x^{(i)})-y^{(i)}\\right).x_1^{(i)}\\end{equation}\n",
    "\n",
    "\\begin{equation}\n",
    "\\frac{\\partial}{\\partial\\beta_2}\\left(\\frac{1}{2m}\\sum_{i=1}^{m} \\left(\\beta_0x_0^{(i)}+\\beta_1x_1^{(i)} + \\beta_2x_2^{(i)}-y^{(i)}\\right)^2 \\right) = \\frac{1}{m}\\sum_{i=1}^{m} \\left(\\beta_0x_0^{(i)}+\\beta_1x_1^{(i)} + \\beta_2x_2^{(i)} -y^{(i)}\\right).x_2^{(i)} = \\frac{1}{m}\\sum_{i=1}^{m} \\left(h_{\\beta}(x^{(i)})-y^{(i)}\\right).x_2^{(i)}\\end{equation}\n",
    "\n",
    "\n",
    "**Gradient Descent formula given by:**\n",
    "\\begin{equation}\n",
    "\\beta_j:=\\beta_j-\\alpha\\frac{\\partial}{\\partial\\beta_j}J(\\beta_0,\\beta_1,\\beta_2)\\mbox{ for j=0,1,2}\n",
    "\\end{equation}\n",
    "\n",
    "**Now, we plug in the derivatives in gradient descent formula and we get:**\n",
    "\\begin{equation} \\text{repeat until convergence:}\\ \\lbrace\\\\\n",
    " \\beta_0 := \\beta_0 - \\alpha \\frac{1}{m} \\sum\\limits_{i=1}^{m} (h_\\beta(x^{(i)}) - y^{(i)}) \\cdot x_0^{(i)}\\\\\n",
    "\\beta_1 := \\beta_1 - \\alpha \\frac{1}{m} \\sum\\limits_{i=1}^{m} (h_\\beta(x^{(i)}) - y^{(i)}) \\cdot x_1^{(i)}\\\\\n",
    "\\beta_2 := \\beta_2 - \\alpha \\frac{1}{m} \\sum\\limits_{i=1}^{m} (h_\\beta(x^{(i)}) - y^{(i)}) \\cdot x_2^{(i)}\n",
    "\\\\ \\rbrace \\end{equation}\n",
    "\n",
    "\n",
    "In other words:\n",
    "\\begin{equation} \\text{repeat until convergence:} \\ \\lbrace \\\\ \\beta_j := \\beta_j - \\alpha \\frac{1}{m} \\sum\\limits_{i=1}^{m} (h_\\beta(x^{(i)}) - y^{(i)}) \\cdot x_j^{(i)}\\ \\ \\ \\ \\text{for j := 0,1,2}\\\\ \\rbrace\\end{equation}"
   ]
  },
  {
   "cell_type": "markdown",
   "metadata": {
    "colab_type": "text",
    "id": "5OpNVpGkl1vr"
   },
   "source": [
    "## 6.2 Practical approach\n",
    "\n",
    "Suppose we have X, Y and beta matrices. \n",
    "X is features matrix of size 4 rows and 2 columns. We will add 1 as constant to make gradient descent steps simpler, Y (target) is column vector of size 4 rows and 1 column and beta (coeff) is column vector of size 3 rows and 1 column.\n",
    "$\\bar{Y}$ is predicted Y\n",
    "\n",
    "\\begin{equation}\n",
    " \\begin{bmatrix} 1 & X_{01} & X_{02}\\\\ 1 & X_{11} & X_{12} \\\\ 1 & X_{21} & X_{22} \\\\ 1 & X_{31} & X_{32} \\end{bmatrix} \n",
    "  \\begin{bmatrix}\n",
    "   \\beta_0 \\\\\n",
    "   \\beta_1 \\\\\n",
    "   \\beta_2\n",
    "   \\end{bmatrix}\n",
    " =\n",
    "  \\begin{bmatrix}\n",
    "   1.\\beta_0 + X_{01}.\\beta_1+ X_{02}.\\beta_2 \\\\\n",
    "   1.\\beta_0 + X_{11}.\\beta_1+ X_{12}.\\beta_2 \\\\\n",
    "   1.\\beta_0 + X_{21}.\\beta_1+ X_{22}.\\beta_2 \\\\\n",
    "   1.\\beta_0 + X_{31}.\\beta_1+ X_{32}.\\beta_2\n",
    "   \\end{bmatrix}\n",
    "  =\n",
    "  \\begin{bmatrix}\n",
    "   \\bar{Y_0} \\\\\n",
    "   \\bar{Y_1} \\\\\n",
    "   \\bar{Y_2} \\\\\n",
    "   \\bar{Y_3}\n",
    "   \\end{bmatrix}\n",
    "\\end{equation}\n",
    "\n",
    "If we look at the middle matrix, we can observe that each row is having an equation of the line which will be ufrther used in cost function to minimize the cost through Gradient Descent Algorithm and at the end we will be having optimal betas which minimizes the cost.\n",
    "\n",
    "Now, let's look at how we can minimize this using gradient descent.\n",
    "\\begin{align*}& \\text{repeat until convergence:} \\; \\lbrace \\newline \\; & \\beta_j := \\beta_j - \\alpha \\frac{1}{m} \\sum\\limits_{i=1}^{m} (h_\\beta(x^{(i)}) - y^{(i)}) \\cdot x_j^{(i)} \\; & \\text{for j := 0,1,2}\\newline \\rbrace\\end{align*}\n",
    "\n",
    "Here, lets take look at this term \n",
    "Now, let's look at how we can minimize this using gradient descent.\n",
    "\\begin{align*}& \\text{error (predicted - actual):} \\;\n",
    "(h_\\beta(x^{(i)}) - y^{(i)}) \n",
    "\\newline \\end{align*}\n",
    "\n",
    "In matrix form\n",
    "\\begin{equation}\n",
    "error =\n",
    " \\begin{bmatrix}\n",
    "   \\bar{Y_0} \\\\\n",
    "   \\bar{Y_1} \\\\\n",
    "   \\bar{Y_2} \\\\\n",
    "   \\bar{Y_3}\n",
    "   \\end{bmatrix}\n",
    "  -\n",
    "  \\begin{bmatrix}\n",
    "   Y_0 \\\\\n",
    "   Y_1 \\\\\n",
    "   Y_2 \\\\\n",
    "   Y_3\n",
    "   \\end{bmatrix}\n",
    "   =\n",
    "   \\begin{bmatrix}\n",
    "   error_0 \\\\\n",
    "   error_1 \\\\\n",
    "   error_2 \\\\\n",
    "   error_3\n",
    "   \\end{bmatrix}\n",
    "\\end{equation}\n",
    "we can rewrite the equation as:\n",
    "\\begin{equation} \\text{repeat until convergence:} \\ \\lbrace \\\\ \\beta_j := \\beta_j - \\alpha \\frac{1}{m} \\sum\\limits_{i=1}^{m} (error_j^{(i)}) \\cdot x_j^{(i)}\\ \\ \\ \\ \\text{for j := 0,1,2}\\\\ \\rbrace\\end{equation}\n",
    "\n",
    "Now, lets take a look at summation and multuplication of x with error term:\n",
    "\\begin{equation}\\alpha \\frac{1}{m} \\sum\\limits_{i=1}^{m} (error_j^{(i)}) \\cdot x_j^{(i)} \\ \\ \\ \\text{for j := 0,1,2}\\end{equation}\n",
    "\n",
    "In matrix form:\n",
    "\\begin{equation}\n",
    " \\frac{\\alpha}{m}\n",
    "   \\begin{bmatrix}\n",
    "   error_0 \\\\\n",
    "   error_1 \\\\\n",
    "   error_2 \\\\\n",
    "   error_3\n",
    "   \\end{bmatrix}\n",
    "   .\n",
    "  \\begin{bmatrix} 1 & X_{01} & X_{02}\\\\ 1 & X_{11} & X_{12} \\\\ 1 & X_{21} & X_{22} \\\\ 1 & X_{31} & X_{32} \\end{bmatrix} \n",
    "\\end{equation}\n",
    "This multiplcation can not be directly done, because of mismatch in rows and columns of matrices. We will have to transpose the X matrix so that we can get shape as of beta i.e 3 rows and 1 column.\n",
    "\\begin{equation}\n",
    "\\frac{\\alpha}{m}\n",
    "\\begin{bmatrix} \n",
    "1 & 1 & 1 & 1\\\\\n",
    "X_{01} & X_{11} & X_{21} & X_{31}\\\\ \n",
    "X_{02} & X_{12} & X_{22} & X_{32}\n",
    "\\end{bmatrix}\n",
    ".\n",
    "\\begin{bmatrix}\n",
    "   error_0 \\\\\n",
    "   error_1 \\\\\n",
    "   error_2 \\\\\n",
    "   error_3\n",
    "   \\end{bmatrix}\n",
    "   =\n",
    "     \\begin{bmatrix}\n",
    "     (1.error_0 + 1.error_1 +1.error_2 + 1.error_3)\\frac{\\alpha}{m}\\\\\n",
    "     (X_{01}.error_0 + X_{11}.error_1 +X_{21}.error_2 + X_{31}.error_3)\\frac{\\alpha}{m}\\\\\n",
    "     (X_{02}.error_0 + X_{12}.error_1 +X_{22}.error_2 + X_{32}.error_3)\\frac{\\alpha}{m}\n",
    "   \\end{bmatrix}\n",
    "   = \n",
    "     \\begin{bmatrix}\n",
    "   \\beta_{grad0} \\\\\n",
    "   \\beta_{grad1} \\\\\n",
    "   \\beta_{grad2}\n",
    "   \\end{bmatrix}\n",
    "\\end{equation}\n",
    "<br>\n",
    "$\\begin{bmatrix}\n",
    "   \\beta_{grad0} \\\\\n",
    "   \\beta_{grad1} \\\\\n",
    "   \\beta_{grad2}\n",
    "   \\end{bmatrix}$ are derivative betas which will get subracted from old betas to get new betas.\n",
    "\n",
    "Now, lets take a look at final forumla\n",
    "\\begin{equation} \\text{repeat until convergence:} \\ \\lbrace \\\\ \\beta_j := \\beta_j - \\alpha \\frac{1}{m} \\sum\\limits_{i=1}^{m} (h_\\beta(x^{(i)}) - y^{(i)}) \\cdot x_j^{(i)}\\ \\ \\ \\ \\text{for j := 0,1,2}\\\\ \\rbrace\\end{equation}\n",
    "\n",
    "In matrix form:\n",
    "\\begin{equation}\n",
    "\\begin{bmatrix}\n",
    "   \\beta_{new0} \\\\\n",
    "   \\beta_{new1} \\\\\n",
    "   \\beta_{new2}\n",
    "   \\end{bmatrix}\n",
    "  =\n",
    "  \\begin{bmatrix}\n",
    "   \\beta_{old0} \\\\\n",
    "   \\beta_{old1} \\\\\n",
    "   \\beta_{old2}\n",
    "   \\end{bmatrix}\n",
    "   -\n",
    "     \\begin{bmatrix}\n",
    "   \\beta_{grad0} \\\\\n",
    "   \\beta_{grad1} \\\\\n",
    "   \\beta_{grad2}\n",
    "   \\end{bmatrix}\n",
    "\\end{equation}\n",
    "\n",
    "After convergence we get last new betas as final beta which is given as $\\begin{bmatrix}\n",
    "   \\beta_0 \\\\\n",
    "   \\beta_1 \\\\\n",
    "   \\beta_2\n",
    "   \\end{bmatrix}$.\n",
    "\n",
    "These betas can be used to predict the outcome on test dataset.\n"
   ]
  },
  {
   "cell_type": "markdown",
   "metadata": {
    "colab_type": "text",
    "id": "FAI2FaaaPwgi"
   },
   "source": [
    "#7. Building our own Linear_regression class"
   ]
  },
  {
   "cell_type": "code",
   "execution_count": null,
   "metadata": {
    "colab": {},
    "colab_type": "code",
    "id": "MhItgAl1LoJy"
   },
   "outputs": [],
   "source": [
    "class Linear_Regression():\n",
    "    def __init__(self): \n",
    "        self.beta = 0\n",
    "        self.allcost = 0\n",
    "\n",
    "    def cost(self,X,y, beta):     \n",
    "        '''\n",
    "        Calculates the cost for given X and y. \n",
    "        Parameters:\n",
    "            X  (numpy matrix): It's a matrix of m samples and n independent variables\n",
    "            y  (numpy column vector):  Actual y\n",
    "            beta (numpy column vector): It contains weights/coeff of each independent variables\n",
    "        Returns:\n",
    "            cost (float): Calculated cost from the error\n",
    "        '''\n",
    "        m = len(y)\n",
    "        y_pred = X.dot(beta)\n",
    "        cost = (1/(2*m)) * np.sum(np.square(y_pred - y)) # (1/m) * [sum from i = 0  to m (Y_pred_i - y_i)^2]\n",
    "        return cost\n",
    "\n",
    "    def fit(self, X, y, alpha, eps=1e-08, max_iter=10000, cost=0):\n",
    "        '''\n",
    "        Gradient descent alogrithm to optimize the beta coefficeints for which cost is minimum.\n",
    "        Parameters:\n",
    "            X (numpy matrix): It's a matrix of m samples and n independent variables\n",
    "            y  (numpy column vector):  Actual y\n",
    "            alpha (float): learning rate\n",
    "            eps (float): epsilon (smallest value to compare the change in cost)\n",
    "            max_iter (int): Maximum number of iterations\n",
    "            cost (float): Initial cost\n",
    "        '''\n",
    "\n",
    "        X = np.insert(X, 0, 1, axis=1)      # Inserting 1 as constant for beta0; X -> (152,14) [1 constant and 13 variables]\n",
    "        y = y.reshape(-1,1)                 # y -> (152,1) actual ys\n",
    "        m = X.shape[0]                      # number of samples\n",
    "        all_cost = []                       # To store cost in each iteration\n",
    "\n",
    "        # Initializing beta to zeros\n",
    "        beta = np.zeros((X.shape[1], 1)) # beta -> (14,1)\n",
    "\n",
    "\n",
    "        # Iterate Loop\n",
    "        for iter in range(max_iter):\n",
    "\n",
    "            old_cost = cost                 # Updating old cost to newer one\n",
    "            \n",
    "            # Predicting y\n",
    "            # X -> (152,14) and beta -> (14,1). \n",
    "            # Number of columns of 1st matrix matches rows of 2nd matrix. No transpose needed.\n",
    "            y_pred = X.dot(beta) # y_pred -> (152,1); beta_0 * x_0 + beta_1 * x_1 + ....+ beta_14 * x_14\n",
    "\n",
    "            # Computing gradient/derivative (d_j(beta)/d_beta)\n",
    "            # y_pred -> (152,1), y -> (152,1) --------> (y_pred - y) -> (152,1)\n",
    "            # X -> (152,14), (y_pred - y) -> (152,1). Matrix muliplication can't be done, because of rows column mismatch.\n",
    "            # X.T -> (14,152), (y_pred - y) -> error -> (152,1). After transpose of X, column of X matches with rows of (y_pred - y).\n",
    "            error = y_pred - y\n",
    "            derivative = (1.0/m) * X.T.dot(error)          # derivative -> (14,1)\n",
    "\n",
    "            # Updating beta \n",
    "            # beta -> (14,1), derivative -> (14,1), alpha*derivative -> (14,1)\n",
    "            beta = beta - alpha * derivative                    # beta -> (14,1). \n",
    "            # At the end we get beta as column vector with 14 beta values corresponding to each independent variable.\n",
    "\n",
    "            # Cost J(beta)\n",
    "            cost = self.cost(X, y, beta)                         # Calculating cost\n",
    "        \n",
    "            all_cost.append(cost) # Capturing cost for each iteration\n",
    "\n",
    "            # If difference in old and new cost matches the given eps, breaking from the loop\n",
    "            if abs(old_cost-cost) <= eps:\n",
    "                print('Converged, iterations: ', iter, '!!!')\n",
    "                break\n",
    "\n",
    "        else:\n",
    "            print('Max interactions exceeded!') # Executes when GD does not find the local/global minimum\n",
    "\n",
    "        self.beta = beta; self.allcost = all_cost\n",
    "\n",
    "    def predict(self, X):\n",
    "        '''\n",
    "        Predicts the outcome from given X.\n",
    "        Parameters:\n",
    "            X (numpy matrix): It's a matrix of m samples and n independent variables\n",
    "        Returns:\n",
    "            y_pred (column vector): Predicted outcome for each data point\n",
    "        '''\n",
    "        X = np.insert(X, 0, 1, axis=1) # Inserting 1 as constant for beta0\n",
    "        return X.dot(self.beta) # beta_0 * x_0 + beta_1 * x_1 + ....+ beta_14 * x_14\n",
    "\n",
    "    def params(self):\n",
    "        '''\n",
    "        Returns Parameters i.e interecept and betas\n",
    "        '''\n",
    "        return self.beta[0], self.beta[1:]   # return parameters"
   ]
  },
  {
   "cell_type": "markdown",
   "metadata": {
    "colab_type": "text",
    "id": "w47gKNSzSMY_"
   },
   "source": [
    "## 7.1 Linear Regression with optimal learning rate"
   ]
  },
  {
   "cell_type": "code",
   "execution_count": null,
   "metadata": {
    "colab": {
     "base_uri": "https://localhost:8080/",
     "height": 584
    },
    "colab_type": "code",
    "id": "zzq3Vvc1OLHb",
    "outputId": "9dea82f2-2dfe-497a-cb0a-ecc86f293bf7"
   },
   "outputs": [
    {
     "name": "stdout",
     "output_type": "stream",
     "text": [
      "Converged, iterations:  1077 !!!\n"
     ]
    },
    {
     "data": {
      "image/png": "[encoded data removed]",
      "text/plain": [
       "<Figure size 396x288 with 1 Axes>"
      ]
     },
     "metadata": {
      "needs_background": "light",
      "tags": []
     },
     "output_type": "display_data"
    },
    {
     "name": "stdout",
     "output_type": "stream",
     "text": [
      "Mean Squared Error : 29.799109511349826\n",
      "Intercept from custom GD: [22.60225989]\n",
      "Weights from SKLearn GD\n",
      " [[-0.60011888]\n",
      " [ 0.91297468]\n",
      " [-0.04260866]\n",
      " [ 0.67407719]\n",
      " [-1.52434307]\n",
      " [ 2.76124023]\n",
      " [-0.34118062]\n",
      " [-2.82019616]\n",
      " [ 2.45148684]\n",
      " [-2.35802015]\n",
      " [-1.94233246]\n",
      " [ 0.95375492]\n",
      " [-3.22490658]]\n"
     ]
    }
   ],
   "source": [
    "# GD with optimal learning rate\n",
    "lr_opt = Linear_Regression()                            # Creating instance of Linear_Regression\n",
    "lr_opt.fit(X_train, y_train, 0.1)                       # Fitting our data to learn the coeff\n",
    "y_pred = lr_opt.predict(X_test)                         # Predicting on unseen data (test) based on learnt coeff\n",
    "intercept, betas = lr_opt.params()                      # Getting parameters of linear regression i.e. intercept and coeff\n",
    "\n",
    "# Plotting actual vs predicted prices\n",
    "plt.figure(figsize=(5.5,4))\n",
    "plt.scatter(y_test,y_pred)\n",
    "plt.grid()\n",
    "plt.title('Scatter plot between actual y vs predicted y')\n",
    "plt.xlabel('Actual y')\n",
    "plt.ylabel('Predicted y')\n",
    "plt.show() \n",
    "\n",
    "# Calculating Mean squared error\n",
    "mse_custom_gd = mean_squared_error(y_test,y_pred)\n",
    "print('Mean Squared Error :', mse_custom_gd)            # Displaying Mean squared error\n",
    "print(\"Intercept from custom GD:\", intercept)           # Displaying the intercept\n",
    "print('Weights from SKLearn GD\\n', betas)               # Displaying the coeff"
   ]
  },
  {
   "cell_type": "markdown",
   "metadata": {
    "colab_type": "text",
    "id": "FPjETtuySTBZ"
   },
   "source": [
    "## 7.2 Linear Regression with low learning rate"
   ]
  },
  {
   "cell_type": "code",
   "execution_count": null,
   "metadata": {
    "colab": {
     "base_uri": "https://localhost:8080/",
     "height": 584
    },
    "colab_type": "code",
    "id": "EIaaLJmNQ_YV",
    "outputId": "83e21941-98f2-4e3a-d07d-9fd3680dd9db"
   },
   "outputs": [
    {
     "name": "stdout",
     "output_type": "stream",
     "text": [
      "Max interactions exceeded!\n"
     ]
    },
    {
     "data": {
      "image/png": "[encoded data removed]",
      "text/plain": [
       "<Figure size 396x288 with 1 Axes>"
      ]
     },
     "metadata": {
      "needs_background": "light",
      "tags": []
     },
     "output_type": "display_data"
    },
    {
     "name": "stdout",
     "output_type": "stream",
     "text": [
      "Mean Squared Error : 110.26180107680581\n",
      "Intercept from custom GD: [14.28776891]\n",
      "Weights from SKLearn GD\n",
      " [[-0.59367458]\n",
      " [ 0.46605092]\n",
      " [-0.65012751]\n",
      " [ 0.76537215]\n",
      " [-0.36258655]\n",
      " [ 2.47281088]\n",
      " [-0.27201958]\n",
      " [-0.64771794]\n",
      " [-0.07659611]\n",
      " [-0.54502299]\n",
      " [-1.3618702 ]\n",
      " [ 0.69602695]\n",
      " [-2.08501101]]\n"
     ]
    }
   ],
   "source": [
    "# GD with low learning rate\n",
    "lr_low = Linear_Regression()                            # Creating instance of Linear_Regression\n",
    "lr_low.fit(X_train, y_train, 0.0001)                    # Fitting our data to learn the coeff\n",
    "y_pred = lr_low.predict(X_test)                         # Predicting on unseen data (test) based on learnt coeff\n",
    "intercept, betas = lr_low.params()                      # Getting parameters of linear regression i.e. intercept and coeff\n",
    "\n",
    "# Plotting actual vs predicted prices\n",
    "plt.figure(figsize=(5.5,4))\n",
    "plt.scatter(y_test,y_pred)\n",
    "plt.grid()\n",
    "plt.title('Scatter plot between actual y vs predicted y')\n",
    "plt.xlabel('Actual y')\n",
    "plt.ylabel('Predicted y')\n",
    "plt.show() \n",
    "\n",
    "# Calculating Mean squared error\n",
    "mse_custom_gd = mean_squared_error(y_test,y_pred)\n",
    "print('Mean Squared Error :', mse_custom_gd)            # Displaying Mean squared error\n",
    "print(\"Intercept from custom GD:\", intercept)           # Displaying the intercept\n",
    "print('Weights from SKLearn GD\\n', betas)               # Displaying the coeff"
   ]
  },
  {
   "cell_type": "markdown",
   "metadata": {
    "colab_type": "text",
    "id": "rQBLpvyySWXy"
   },
   "source": [
    "## 7.3 Linear Regression with high learning rate"
   ]
  },
  {
   "cell_type": "code",
   "execution_count": null,
   "metadata": {
    "colab": {
     "base_uri": "https://localhost:8080/",
     "height": 584
    },
    "colab_type": "code",
    "id": "mVEOKx7hOCNQ",
    "outputId": "451427d4-04b3-4b5a-f207-6034c3ccb2fa"
   },
   "outputs": [
    {
     "name": "stdout",
     "output_type": "stream",
     "text": [
      "Max interactions exceeded!\n"
     ]
    },
    {
     "data": {
      "image/png": "[encoded data removed]",
      "text/plain": [
       "<Figure size 396x288 with 1 Axes>"
      ]
     },
     "metadata": {
      "needs_background": "light",
      "tags": []
     },
     "output_type": "display_data"
    },
    {
     "name": "stdout",
     "output_type": "stream",
     "text": [
      "Mean Squared Error : 1.4926537634306276e+35\n",
      "Intercept from custom GD: [-6.38457897e+09]\n",
      "Weights from SKLearn GD\n",
      " [[ 4.02234553e+16]\n",
      " [-3.84509580e+16]\n",
      " [ 5.25739332e+16]\n",
      " [-9.25903894e+13]\n",
      " [ 5.21669356e+16]\n",
      " [-2.84804416e+16]\n",
      " [ 4.75757590e+16]\n",
      " [-4.84629635e+16]\n",
      " [ 4.89262163e+16]\n",
      " [ 5.13648419e+16]\n",
      " [ 3.06259219e+16]\n",
      " [-3.05556164e+16]\n",
      " [ 4.67707876e+16]]\n"
     ]
    }
   ],
   "source": [
    "# GD with high learning rate\n",
    "lr_high = Linear_Regression()                            # Creating instance of Linear_Regression\n",
    "lr_high.fit(X_train, y_train, 8, max_iter=10)            # Fitting our data to learn the coeff\n",
    "y_pred = lr_high.predict(X_test)                         # Predicting on unseen data (test) based on learnt coeff\n",
    "intercept, betas = lr_high.params()                      # Getting parameters of linear regression i.e. intercept and coeff\n",
    "\n",
    "# Plotting actual vs predicted prices\n",
    "plt.figure(figsize=(5.5,4))\n",
    "plt.scatter(y_test,y_pred)\n",
    "plt.grid()\n",
    "plt.title('Scatter plot between actual y vs predicted y')\n",
    "plt.xlabel('Actual y')\n",
    "plt.ylabel('Predicted y')\n",
    "plt.show() \n",
    "\n",
    "# Calculating Mean squared error\n",
    "mse_custom_gd = mean_squared_error(y_test,y_pred)\n",
    "print('Mean Squared Error :', mse_custom_gd)            # Displaying Mean squared error\n",
    "print(\"Intercept from custom GD:\", intercept)           # Displaying the intercept\n",
    "print('Weights from SKLearn GD\\n', betas)               # Displaying the coeff"
   ]
  },
  {
   "cell_type": "markdown",
   "metadata": {
    "colab_type": "text",
    "id": "8oeduNedSYts"
   },
   "source": [
    "##7.4 Cost visulaisation for all the above 3 cases"
   ]
  },
  {
   "cell_type": "code",
   "execution_count": null,
   "metadata": {
    "colab": {
     "base_uri": "https://localhost:8080/",
     "height": 350
    },
    "colab_type": "code",
    "id": "y0nmLcksfz99",
    "outputId": "96fa88c0-c9dc-40e7-fd44-d5eb6d84890e"
   },
   "outputs": [
    {
     "data": {
      "image/png": "[encoded data removed]",
      "text/plain": [
       "<Figure size 1440x360 with 3 Axes>"
      ]
     },
     "metadata": {
      "needs_background": "light",
      "tags": []
     },
     "output_type": "display_data"
    }
   ],
   "source": [
    "plt.figure(figsize=(20,5))\n",
    "plt.subplot(1,3,1)\n",
    "plt.plot(lr_low.allcost)\n",
    "plt.xlabel(\"iterations\")\n",
    "plt.ylabel(\"cost\")\n",
    "plt.title(\"Low learning rate\")\n",
    "plt.subplot(1,3,2)\n",
    "plt.plot(lr_opt.allcost)\n",
    "plt.xlabel(\"iterations\")\n",
    "plt.ylabel(\"cost\")\n",
    "plt.title(\"Optimal learning rate\")\n",
    "plt.subplot(1,3,3)\n",
    "plt.plot(lr_high.allcost)\n",
    "plt.xlabel(\"iterations\")\n",
    "plt.ylabel(\"cost\")\n",
    "plt.title(\"High learning rate\")\n",
    "plt.show()"
   ]
  },
  {
   "cell_type": "markdown",
   "metadata": {
    "colab_type": "text",
    "id": "nJ5uLfFedAHs"
   },
   "source": [
    "# 8. Disadvantages of Gradient Descent\n",
    "1. If dataset size is large then Gradient Descent may take longer time to converge and we will also need more memory to fit all the data for computation. Since, Gradient descent needs all the samples to compute derivative. In order to avoid tha, we have 2 flavours of Gradient Descent.\n",
    "    * **Stochastic Gradient Descent:**SGD randomly picks one data point from the whole data set at each iteration to reduce the computations enormously.\n",
    "    * **Mini Batch Gradient Descent:**Mini Batch GD randomly picks subset of data point from the whole data set at each iteration to reduce the computations enormously.\n",
    "2. Gradient descent may fail to find the global minima.<br>\n",
    "![Gradient descent](https://www.researchgate.net/profile/Md_Saiful_Islam14/publication/338621083/figure/fig4/AS:847811214069760@1579145353037/Gradient-Descent-Stuck-at-Local-Minima-18.ppm)\n",
    "\n",
    "Source: Researchgate\n",
    "<br>\n",
    "It totally depends upon how we initialise the weights and the learning rate."
   ]
  }
 ],
 "metadata": {
  "colab": {
   "collapsed_sections": [],
   "name": "Gradient_Descent.ipynb",
   "provenance": []
  },
  "kernelspec": {
   "display_name": "Python 3",
   "language": "python",
   "name": "python3"
  },
  "language_info": {
   "codemirror_mode": {
    "name": "ipython",
    "version": 3
   },
   "file_extension": ".py",
   "mimetype": "text/x-python",
   "name": "python",
   "nbconvert_exporter": "python",
   "pygments_lexer": "ipython3",
   "version": "3.6.8"
  }
 },
 "nbformat": 4,
 "nbformat_minor": 1
}
